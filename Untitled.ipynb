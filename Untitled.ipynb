{
 "cells": [
  {
   "cell_type": "code",
   "execution_count": 1,
   "metadata": {},
   "outputs": [],
   "source": [
    "from bs4 import BeautifulSoup\n",
    "import requests\n",
    "import pandas as pd\n",
    "import time"
   ]
  },
  {
   "cell_type": "code",
   "execution_count": 2,
   "metadata": {},
   "outputs": [],
   "source": [
    "scraper_session = requests.session()"
   ]
  },
  {
   "cell_type": "code",
   "execution_count": 3,
   "metadata": {},
   "outputs": [],
   "source": [
    "url = 'https://www.guru99.com/'"
   ]
  },
  {
   "cell_type": "code",
   "execution_count": 4,
   "metadata": {},
   "outputs": [
    {
     "data": {
      "text/plain": [
       "<Response [200]>"
      ]
     },
     "execution_count": 4,
     "metadata": {},
     "output_type": "execute_result"
    }
   ],
   "source": [
    "scraper_session.get(url)"
   ]
  },
  {
   "cell_type": "code",
   "execution_count": 5,
   "metadata": {},
   "outputs": [],
   "source": [
    "response_soup = BeautifulSoup(scraper_session.get(url).content)"
   ]
  },
  {
   "cell_type": "code",
   "execution_count": 7,
   "metadata": {},
   "outputs": [],
   "source": [
    "for i in response_soup.find_all('div'):\n",
    "    if 'row' in i.attrs.get('class',[]):\n",
    "        result = i"
   ]
  },
  {
   "cell_type": "code",
   "execution_count": 9,
   "metadata": {},
   "outputs": [],
   "source": [
    "temp = result.find_all('a')"
   ]
  },
  {
   "cell_type": "code",
   "execution_count": 101,
   "metadata": {},
   "outputs": [],
   "source": [
    "#[lambda x: {'url' : x.attrs.get('href',''), 'title' : x.attrs.get('title',''), 'tag_tetx' : ' '.join(x.contents)} for x in temp]"
   ]
  },
  {
   "cell_type": "code",
   "execution_count": 10,
   "metadata": {},
   "outputs": [],
   "source": [
    "target_list = list(map(lambda x: {'title' : x.attrs.get('title',''), 'url' : 'https://www.guru99.com' + x.attrs.get('href','') ,'tag_tetx' : ' '.join(x.contents)},temp))"
   ]
  },
  {
   "cell_type": "code",
   "execution_count": 11,
   "metadata": {},
   "outputs": [],
   "source": [
    "topic_lookup = pd.DataFrame(target_list)"
   ]
  },
  {
   "cell_type": "code",
   "execution_count": 97,
   "metadata": {},
   "outputs": [
    {
     "data": {
      "text/plain": [
       "\"a = {'url': temp.attrs.get('href',''),\\n    'title': temp.attrs.get('title',''),\\n    'tag_text': ' '.join(temp.contents)}\""
      ]
     },
     "execution_count": 97,
     "metadata": {},
     "output_type": "execute_result"
    }
   ],
   "source": [
    "'''a = {'url': temp.attrs.get('href',''),\n",
    "    'title': temp.attrs.get('title',''),\n",
    "    'tag_text': ' '.join(temp.contents)}'''"
   ]
  },
  {
   "cell_type": "code",
   "execution_count": 12,
   "metadata": {
    "scrolled": true
   },
   "outputs": [
    {
     "name": "stdout",
     "output_type": "stream",
     "text": [
      "https://www.guru99.com/software-testing.html\n",
      "https://www.guru99.com/quick-test-professional-qtp-tutorial.html\n",
      "https://www.guru99.com/selenium-tutorial.html\n",
      "https://www.guru99.com/mobile-testing.html\n",
      "https://www.guru99.com/cucumber-tutorials.html\n",
      "https://www.guru99.com/soapui-tutorial.html\n",
      "https://www.guru99.com/agile-testing-course.html\n",
      "https://www.guru99.com/junit-tutorial.html\n",
      "https://www.guru99.com/robotic-process-automation-tutorial.html\n",
      "https://www.guru99.com/live-testing-project.html\n",
      "https://www.guru99.com/live-selenium-project.html\n",
      "https://www.guru99.com/live-ecommerce-project.html\n",
      "https://www.guru99.com/live-uft-testing.html\n",
      "https://www.guru99.com/live-interactive-exercise-hp-alm.html\n",
      "https://www.guru99.com/live-mobile-testing-project.html\n",
      "https://www.guru99.com/live-penetration-testing-project.html\n",
      "https://www.guru99.com/live-php-project-learn-complete-web-development-cycle.html\n",
      "https://www.guru99.com/live-agile-testing-project.html\n",
      "https://www.guru99.com/live-insurance-testing-project.html\n",
      "https://www.guru99.com/live-payment-gateway-project.html\n",
      "https://www.guru99.com/live-telecom-project.html\n",
      "https://www.guru99.com/live-java-project.html\n",
      "https://www.guru99.com/live-python-project.html\n",
      "https://www.guru99.com/bugzilla-tutorial-for-beginners.html\n",
      "https://www.guru99.com/jira-tutorial-a-complete-guide-for-beginners.html\n",
      "https://www.guru99.com/mantis-bug-tracker-tutorial.html\n",
      "https://www.guru99.com/utlimate-guide-etl-datawarehouse-testing.html\n",
      "https://www.guru99.com/learn-sap-testing-create-your-first-sap-test-case.html\n",
      "https://www.guru99.com/data-testing.html\n",
      "https://www.guru99.com/jmeter-tutorials.html\n",
      "https://www.guru99.com/loadrunner-v12-tutorials.html\n",
      "https://www.guru99.com/what-is-sap.html\n",
      "https://www.guru99.com/abap-tutorial.html\n",
      "https://www.guru99.com/sap-hcm.html\n",
      "https://www.guru99.com/sap-fico-training-tutorials.html\n",
      "https://www.guru99.com/sap-basis-training-tutorials.html\n",
      "https://www.guru99.com/free-sap-sd-training-course.html\n",
      "https://www.guru99.com/sap-crm-training.html\n",
      "https://www.guru99.com/sap-mm-training-tutorials.html\n",
      "https://www.guru99.com/co-tutorials.html\n",
      "https://www.guru99.com/sap-payroll.html\n",
      "https://www.guru99.com/sap-bi.html\n",
      "https://www.guru99.com/sap-pp-tutorials.html\n",
      "https://www.guru99.com/sap-quality-management-qm-tutorial.html\n",
      "https://www.guru99.com/sap-hana-tutorial.html\n",
      "https://www.guru99.com/crystal-reports-tutorial.html\n",
      "https://www.guru99.com/sap-pi-process-integration-tutorial.html\n",
      "https://www.guru99.com/sapui5-tutorial.html\n",
      "https://www.guru99.com/overview-of-sap-security.html\n",
      "https://www.guru99.com/sap-bpc.html\n",
      "https://www.guru99.com/sap-bods-tutorial.html\n",
      "https://www.guru99.com/bigdata-tutorials.html\n",
      "https://www.guru99.com/hbase-tutorials.html\n",
      "https://www.guru99.com/mongodb-tutorials.html\n",
      "https://www.guru99.com/hive-tutorials.html\n",
      "https://www.guru99.com/cassandra-tutorial.html\n",
      "https://www.guru99.com/aws-tutorial.html\n",
      "https://www.guru99.com/data-warehousing-tutorial.html\n",
      "https://www.guru99.com/devops-tutorial.html\n",
      "https://www.guru99.com/tableau-tutorial.html\n",
      "https://www.guru99.com/microstrategy-tutorial.html\n",
      "https://www.guru99.com/obiee-tutorial.html\n",
      "https://www.guru99.com/pentaho-tutorial.html\n",
      "https://www.guru99.com/power-bi-tutorial.html\n",
      "https://www.guru99.com/qlikview-tutorial.html\n",
      "https://www.guru99.com/talend-tutorial.html\n",
      "https://www.guru99.com/zookeeper-tutorial.html\n",
      "https://www.guru99.com/apache-nifi-tutorial.html\n",
      "https://www.guru99.com/tensorflow-tutorial.html\n",
      "https://www.guru99.com/r-tutorial.html\n",
      "https://www.guru99.com/nltk-tutorial.html\n",
      "https://www.guru99.com/artificial-intelligence-tutorial.html\n",
      "https://www.guru99.com/data-science-tutorial.html\n",
      "https://www.guru99.com/keras-tutorial.html\n",
      "https://www.guru99.com/numpy-tutorial.html\n",
      "https://www.guru99.com/pytorch-tutorial.html\n",
      "https://www.guru99.com/java-tutorial.html\n",
      "https://www.guru99.com/vbscript-tutorials-for-beginners.html\n",
      "https://www.guru99.com/python-tutorials.html\n",
      "https://www.guru99.com/perl-tutorials.html\n",
      "https://www.guru99.com/unix-linux-tutorial.html\n",
      "https://www.guru99.com/interactive-javascript-tutorials.html\n",
      "https://www.guru99.com/apache.html\n",
      "https://www.guru99.com/php-tutorials.html\n",
      "https://www.guru99.com/angularjs-tutorial.html\n",
      "https://www.guru99.com/node-js-tutorial.html\n",
      "https://www.guru99.com/jsp-tutorial.html\n",
      "https://www.guru99.com/web-services-tutorial.html\n",
      "https://www.guru99.com/c-tutorial.html\n",
      "https://www.guru99.com/asp-net-tutorial.html\n",
      "https://www.guru99.com/android-tutorial.html\n",
      "https://www.guru99.com/cpp-tutorial.html\n",
      "https://www.guru99.com/codeigniter-tutorial.html\n",
      "https://www.guru99.com/kotlin-tutorial.html\n",
      "https://www.guru99.com/reactjs-tutorial.html\n",
      "https://www.guru99.com/ruby-on-rails-tutorial.html\n",
      "https://www.guru99.com/scala-tutorial.html\n",
      "https://www.guru99.com/uml-tutorial.html\n",
      "https://www.guru99.com/wpf-tutorial.html\n",
      "https://www.guru99.com/hp-alm-free-tutorial.html\n",
      "https://www.guru99.com/test-management.html\n",
      "https://www.guru99.com/testlink-tutorial-complete-guide.html\n",
      "https://www.guru99.com/best-website-builder.html\n",
      "https://www.guru99.com/free-online-course-with-certificate.html\n",
      "https://www.guru99.com/best-hard-disks.html\n",
      "https://www.guru99.com/excel-tutorials.html\n",
      "https://www.guru99.com/accounting.html\n",
      "https://www.guru99.com/ethical-hacking-tutorials.html\n",
      "https://www.guru99.com/cloud-computing-for-beginners.html\n",
      "https://www.guru99.com/photoshop-tutorials.html\n",
      "https://www.guru99.com/business-analyst-tutorial-course.html\n",
      "https://www.guru99.com/informatica-tutorials.html\n",
      "https://www.guru99.com/project-management-methodology.html\n",
      "https://www.guru99.com/vba-tutorial.html\n",
      "https://www.guru99.com/introduction-ccna.html\n",
      "https://www.guru99.com/jenkins-tutorial.html\n",
      "https://www.guru99.com/software-engineering-tutorial.html\n",
      "https://www.guru99.com/blockchain-tutorial.html\n",
      "https://www.guru99.com/google-go-tutorial.html\n",
      "https://www.guru99.com/data-communication-computer-network-tutorial.html\n",
      "https://www.guru99.com/operating-system-tutorial.html\n",
      "https://www.guru99.com/compiler-design-tutorial.html\n",
      "https://www.guru99.com/learn-cobol-programming-tutorial.html\n",
      "https://www.guru99.com/embedded-systems-tutorial.html\n",
      "https://www.guru99.com/design-analysis-algorithms-tutorial.html\n",
      "https://www.guru99.com/salesforce-tutorial.html\n",
      "https://www.guru99.com/best-minecraft-server-hosting.html\n",
      "https://www.guru99.com/free-business-email-domain.html\n",
      "https://www.guru99.com/web-hosting-india.html\n",
      "https://www.guru99.com/best-web-hosting-australia.html\n",
      "https://www.guru99.com/web-hosting-canada.html\n",
      "https://www.guru99.com/how-to-setup-a-professional-email-address.html\n",
      "https://www.guru99.com/sql.html\n",
      "https://www.guru99.com/sqlite-tutorial.html\n",
      "https://www.guru99.com/postgresql-tutorial.html\n",
      "https://www.guru99.com/pl-sql-tutorials.html\n",
      "https://www.guru99.com/dbms-tutorial.html\n",
      "https://www.guru99.com/mariadb-tutorial-install.html\n",
      "https://www.guru99.com/ms-sql-server-tutorial.html\n"
     ]
    }
   ],
   "source": [
    "for i in topic_lookup['url']:\n",
    "    print(i)"
   ]
  },
  {
   "cell_type": "code",
   "execution_count": 103,
   "metadata": {},
   "outputs": [],
   "source": [
    "response_topics = scraper_session.get(topic_lookup['url'][0])"
   ]
  },
  {
   "cell_type": "code",
   "execution_count": 107,
   "metadata": {},
   "outputs": [],
   "source": [
    "soup_response_sub_topics = BeautifulSoup(response_topics.content,'html')"
   ]
  },
  {
   "cell_type": "code",
   "execution_count": 28,
   "metadata": {},
   "outputs": [],
   "source": [
    "def extract_details(session_object,url):\n",
    "    headers={\n",
    "    \"User-Agent\" : \"Mozilla/5.0 (X11; Linux x86_64) AppleWebKit/537.36 (KHTML, like Gecko) Chrome/51.0.2704.103 Safari/537.36\"\n",
    "    }\n",
    "    time.sleep(3)\n",
    "    i=0\n",
    "    stat = True\n",
    "    while stat:\n",
    "        try:\n",
    "            response_topics = session_object.get(url,headers = headers)\n",
    "        except ConnectionError:\n",
    "            print('Server refused connection oops')\n",
    "            i=i+1\n",
    "            if i > 10:\n",
    "                print('Aborting, since retries are not helping')\n",
    "                break\n",
    "        except ConnectionError:\n",
    "            print('Server refused connection oops')\n",
    "            i=i+1\n",
    "            if i > 10:\n",
    "                print('Aborting, since retries are not helping')\n",
    "                break\n",
    "        \n",
    "        else:\n",
    "            break\n",
    "    #print(url)\n",
    "    soup_response_sub_topics = BeautifulSoup(response_topics.content,'html')\n",
    "    all_para = [' '.join(i.find_all(text=True)) for i in soup_response_sub_topics.find_all('p')[:2]]\n",
    "    if len(all_para)!=2:\n",
    "        all_para = [' '.join(i.find_all(text=True)) for i in soup_response_sub_topics.find_all('hr')[:2]]\n",
    "        \n",
    "    #[BeautifulSoup(i).content for i in all_para]\n",
    "    print(all_para)\n",
    "    return all_para\n",
    "    "
   ]
  },
  {
   "cell_type": "code",
   "execution_count": 180,
   "metadata": {},
   "outputs": [],
   "source": [
    "a = [topic_lookup.title[0]] + extract_details(scraper_session,topic_lookup.url[0]) "
   ]
  },
  {
   "cell_type": "code",
   "execution_count": 181,
   "metadata": {},
   "outputs": [
    {
     "data": {
      "text/plain": [
       "['Software Testing',\n",
       " ' In this course, you will learn basic skills and Software Testing concepts. Lessons are taught using  REAL-LIFE  Examples for improved learning. Refer the tutorials sequentially one after the other.',\n",
       " ' This online video tutorial is specially designed for beginners with little or no manual testing experience. But before you begin, refer this comprehensive guide on choosing  QA as your career']"
      ]
     },
     "execution_count": 181,
     "metadata": {},
     "output_type": "execute_result"
    }
   ],
   "source": [
    "[[topic_lookup.title[0]] + extract_details(scraper_session,topic_lookup.url[0]) ]"
   ]
  },
  {
   "cell_type": "code",
   "execution_count": 194,
   "metadata": {},
   "outputs": [],
   "source": []
  },
  {
   "cell_type": "code",
   "execution_count": 29,
   "metadata": {},
   "outputs": [
    {
     "name": "stdout",
     "output_type": "stream",
     "text": [
      "[' In this course, you will learn basic skills and Software Testing concepts. Lessons are taught using  REAL-LIFE  Examples for improved learning. Refer the tutorials sequentially one after the other.', ' This online video tutorial is specially designed for beginners with little or no manual testing experience. But before you begin, refer this comprehensive guide on choosing  QA as your career']\n",
      "[' In this course, you will learn basic skills and Software Testing concepts. Lessons are taught using  REAL-LIFE  Examples for improved learning. Refer the tutorials sequentially one after the other.', ' This online video tutorial is specially designed for beginners with little or no manual testing experience. But before you begin, refer this comprehensive guide on choosing  QA as your career']\n",
      "[' Check!', '\\xa0']\n",
      "[' This free tutorial is designed for beginners with little or no automation experience. If you are new to testing first take the basic  Software Testing  class. ', 'Want Selenium Lessons in your Inbox?  Join our Email Course']\n",
      "['Check our  Live Mobile Testing Project', '\\xa0']\n",
      "['', '']\n",
      "['', '']\n",
      "['Agile is a coding practice that follows the rules and principles of agile software development. In this  Agile Tutorial , you will learn the fundamentals of Agile, Agile models and methodologies, Agile Vs. Scrum differences, Scrum master training to Agile testing interview questions & answers. This Agile development tutorial is an absolute beginners guide to Agile, and Scrum testing, Basic understanding of manual or automation software testing will be beneficial.', 'Testing using Agile Methodology is the buzzword in the industry as it yields quick and reliable testing results. This Agile Methodology Tutorial is suited for all beginners, intermediate and advanced programmers. Agile Tutorial is also known as Agile Methodology Tutorial.']\n",
      "['JUnit is an open source Unit  Testing  Framework for JAVA. It is useful for  Java  Developers to write and run repeatable tests. Erich Gamma and Kent Beck initially develop it. It is an instance of xUnit architecture. As the name implies, it is used for  Unit Testing  of a small chunk of code. ', 'Developers who are following test-driven methodology must write and execute unit test first before any code. ']\n",
      "['RPA (Robotics Process Automation)  which allows organizations to automate task just like a human being was doing them across application and systems. The purpose of RPA is to transfer the process execution from humans to bots. Robotic process automation interacts with the existing IT architecture with no complex system integration required. ', \"RPA automation can be used to automate workflow, infrastructure, back office process which are labor intensive. These software bots can interact with an in-house application, website, user portal, etc. RPA stands for Robotic Process Automation. The Robotic Process Automation is a software program which runs on an end user's pc, laptop or mobile device. It is a sequence of commands which are executed by Bots under some defined set of business rules. \"]\n",
      "[' How to create test cases for a Banking application. How to test a web service. How to execute test cases and report bugs for practice.  How to overcome common issues that occur in a project. ', '   Cannot Join the live project? Click here to Register   ']\n",
      "[' The project will last 7 days. You will be sent 1 email every 24 hours with your work allocation for that day. It is  FREE!', '\\tKnowledge of  Selenium Fundamentals  is essential.']\n",
      "[' The project will last 11 days. You will be sent 1 email every 24 hours with your work allocation for that day. It is absolutely  FREE!', '   Cannot Join the live project? Click here to Register   ']\n",
      "['   Cannot Join the live project? Click here to Register   ', '']\n",
      "['\\tHP Application LifeCycle Management (ALM) is a fantastic tool. But installing ALM is a nightmare. The installation has many per-requisites and the software needs high config machines (minimum 16GB RAM!). Even if you are able to sail through the challenges and install ALM, the trial version is valid for only 28 days. The license cost is a minimum $6000 ', '\\tThis practice course will shield you through all the above challenges. It will bring interactive exercises in your browser as if you were actually working on HP ALM! ']\n",
      "['   Cannot Join the live project? Click here to Register   ', 'This project is made possible due to tremendous contributions of  Jagadeesh Kotha']\n",
      "[' The project will last 7 days. You will be sent 1 email every 24 HOURS with your work allocation for that day. It is absolutely  FREE', 'How to identify risky modules for a demo AUT. Checking for SQL Injection, Brute Force, Directory Scanning, Upload Restrictions, Phishing & more.']\n",
      "[' The project will last 7 days. You will be sent 1 email every 24 hours with your work allocation for that day. It is absolutely\\xa0 FREE', '   Cannot Join the live project? Click here to Register   ']\n",
      "[' The real-time project will last 4 days. You will be sent 1 email for practice every 24 HOURS with your work allocation for that day. It is absolutely  FREE  ', '   Cannot Join the live project? Click here to Register   ']\n",
      "['   Cannot Join the live project? Click here to Register   ', 'Trouble registering? Check  here']\n",
      "['   Cannot Join the live project? Click here to Register   ', '\\xa0']\n",
      "['   Cannot Join the live project? Click here to Register   ', '\\xa0']\n",
      "['How to create a Java Swing Application. How to use Actionperformed class and dynamically update an application based on user input. How to extend a class, create methods and professionally comment a code.', '   Cannot Join the live project? Click here to Register   ']\n",
      "['   Cannot Join the live project? Click here to Register   ', '\\xa0']\n",
      "['Bugzilla is an open-source issue/bug tracking system that allows developers to keep track of outstanding problems with their product. It is written in  Perl  and uses MYSQL database. ', 'Bugzilla is a  Defect  tracking tool, however, it can be used as a test management tool as such it can be easily linked with other  Test Case  management tools like Quality Center, Testlink etc. ']\n",
      "['JIRA  is a tool developed by Australian Company Atlassian. This software is used for  bug tracking, issue tracking,  and  project management . The name \"JIRA\" is actually inherited from the Japanese word \"Gojira\" which means \"Godzilla\". The basic use of this tool is to track issue and bugs related to your software and  Mobile  apps. ', \"It is also used for project management. The JIRA dashboard consists of many useful functions and features which make handling of issues easy. Some of the key features are listed below. Let's learn JIRA  Defect  and Project tracking software with this Training Course. \"]\n",
      "['MANTIS  is an open source bug tracking software that can be used to track software defects for various software projects. You can easily download and install the Mantis for your use. Mantisbt now also provides a hosted version of the software. You can easily customize Mantis to map your software development workflow. ', 'Some salient features of Mantis Bt are ']\n",
      "[' Before we learn anything about ETL Testing concepts, its important to learn about Business Intelligence and Dataware. Let’s get started – with this ETL Testing tutorial: ', ' Business Intelligence is the process of collecting raw data or business data and turning it into information that is useful and more meaningful.\\xa0 The raw data is the records of the daily transaction of an organization such as interactions with customers, administration of finance, and management of employee and so on.\\xa0 These data’s will be used for “Reporting, Analysis, Data mining, Data quality and Interpretation, Predictive Analysis”. ']\n",
      "['  Introduction to SAP  ', ' The basic idea behind introducing SAP ( System Applications and Products ) was to provide the customers the ability to interact with common corporate databases for a comprehensive range of applications. SAP is an integrated ERP (Enterprise Resource Planning) to make business process work efficiently. ']\n",
      "['Database Testing  is a type of software testing that checks the schema, tables, triggers, etc. of the Database under test. It also checks data integrity and consistency. It may involve creating complex queries to load/stress test the Database and check its responsiveness. ', '  Database Testing is Important  in  software testing  because it ensures data values and information received and stored into database are valid or not. Database testing helps to save data loss, saves aborted transaction data and no unauthorized access to the information. Database is important for any software application hence testers must have good knowledge of SQL for database testing. ']\n"
     ]
    },
    {
     "name": "stdout",
     "output_type": "stream",
     "text": [
      "['', '']\n",
      "['', '']\n",
      "['', '']\n",
      "['', '\\xa0']\n",
      "['PA is an important sub-module of SAP HCM that stores key employee data. PA also helps in HR processes like hire, fire, change in designation, travel etc. Infotype is the basic employee information unit in SAP HR. Lets Study it in detail.', ' A Personnel Action includes all the necessary infotypes, displayed in a logical sequence, for which data must be entered for a particular HR event like hiring, termination etc ']\n",
      "['SAP FICO is the Finance and Cost controlling module in SAP ERP where FI stands for Financial Accounting and CO stands for Controlling. SAP FICO module is very robust and covers almost all business process encountered in various industries. It is one of the very important and widely implemented modules in SAP. This FREE course is designed for beginners as well as for intermediate learners.', '']\n",
      "['', '\\xa0']\n",
      "[' SAP Sales and Distribution (SD) is an important module of SAP ERP consisting of business processes required in selling, shipping, billing of a product. The module is tightly integrated with other SAP MM & SAP PP. Key sub-modules of SAP SD are Customer and Vendor Master Data, Sales, Delivery, Billing, Pricing and Credit Management.', 'Customer is the key Master Data in SAP SD. In this section, we will learn about Account Group ( required to Create Customer Master), Partner Function (Businesses you work with), and Material Master ( goods sold to customer) ']\n",
      "['', '']\n",
      "['', '']\n",
      "['', '\\xa0']\n",
      "[' Payroll is a process to calculate the salary and wages of permanent and temporary employees of an organization. Employee payroll processing is one of the key HR functions in any organization. Payroll is a sub-module of SAP HCM. This course gives an overview onuse of SAP for end to end payroll processing.', ' Once payroll is processed, these activities ensure the salary information is transafered to bank and finance departments for payments and accounting']\n",
      "['', '']\n",
      "['', '']\n",
      "['', '\\xa0']\n",
      "['SAP HANA  is the latest, in-memory database, and platform which can be deployed on-premises or cloud. SAP HANA is a combination of hardware and software, which integrates different components like SAP HANA Database, SAP SLT (System Landscape Transformation) Replication server, SAP HANA Direct Extractor connection, and Sybase replication. ', 'HANA has unprecedented adoption by the SAP customers. SAP HANA is capable of processing a large amount of real time data in a short time period. ']\n",
      "['SAP Crystal Report is a BI tool which helps you to build reports from SAP and other non-SAP data sources like Oracle, SQL Server, MySQL, XML Data Source, Microsoft Excel, etc. The knowledge of this tool helps the business leaders in developing advanced level reports and take accurate/profitable decisions. ', 'In this  Crystal Reports  tutorial, you will learn: ']\n",
      "['SAP PI (Process Integration) is an integration platform which provides seamless integration between SAP and non-SAP applications within the organization A2A  (Application to Application)  or even outside the organization B2B  (Business to Business).  ', \"SAP Process Orchestration is a tool to automate and optimize business processes. It combines features of SAP Business Process Management (BPM), SAP Process Integration(PI) and SAP Business Rules Management(BRM). In other words, it's more advanced version of SAP PI and has all the tools required to integrate applications. \"]\n",
      "['SAPUI5 is the latest in the series of SAP UI development technologies. In order to provide web integration for the underlying SAP ERP system, SAP came up with multiple UI development technologies like BSP (Business server pages), PDK (Portal development kit), Web Dynpro Java, Web Dynpro ABAP. And the successor of Web Dynpro ABAP is SAPUI5. ', 'SAPUI5 is a set of libraries which is used to build Responsive web applications. Responsive web applications are those which are built once and can be run on multiple devices like Desktop, Mobile and Tablet, etc. SAPUI5 works on the concept of MVC to create separation between Data, Business Logic and Representation of Data on View. So the development of View and Controller can take place independently to the development to model (data containers). Thus accelerating the development cycle. ']\n",
      "['SAP Systems contain very sensitive and confidential data of their clientele and businesses. Hence, there is a need for a regular audit of an SAP computer system to check its security and data integrity. ', 'For instance, an employee in a warehouse who is responsible for creating a purchase order shall not approve a rightful purchase order or otherwise he may create and approve as many purchase order without any use. ']\n",
      "['SAP BPC stands for Business Planning and Consolidation. It provides you with a single view of financial and operational data and unified solution which supports Performance Management processes. It delivers built-in functionalities for', 'There are two platforms in SAP BPC. About 80% of its functionality is same except the difference in the back-end. In each platform, there is two version.']\n",
      "[\"Before we learn SAP BODS, let's understand \", 'ETL stands for Extract-Transform-Load, and it is a process of how data is loaded from the target system to the data warehouse. Data is extracted from a database and transformed to match according to the data warehouse schema. After that, it is loaded back to the data warehouse database in the form of dimension and fact tables. ']\n",
      "[' Check!', '']\n",
      "['HBase is an open-source, column-oriented distributed database system in \\xa0a Hadoop\\xa0 environment. Initially, it was Google Big Table, afterward, it was re-named as HBase and is primarily written in Java.  \\xa0Apache\\xa0 HBase is needed for real-time Big Data applications. ', 'HBase can store massive amounts of data from terabytes to petabytes. The tables present in HBase consists of billions of rows having millions of columns. HBase is built for low latency operations, which is having some specific features compared to traditional relational models. ']\n",
      "['', '']\n",
      "['Hive is developed on top of Hadoop. It is a data warehouse framework for querying and analysis of data that is stored in HDFS. Hive is an open source-software that lets programmers analyze large data sets on Hadoop.', 'The size of data sets being collected and analyzed in the industry for business intelligence is growing and in a way, it is making traditional data warehousing solutions more expensive.  Hadoop  with MapReduce framework, is being used as an alternative solution for analyzing data sets with huge size. Though, Hadoop has proved useful for working on huge data sets, its MapReduce framework is very low level and it requires programmers to write custom programs which are hard to maintain and reuse. Hive comes here for rescue of programmers.']\n",
      "[' Cassandra is a distributed database management system designed for handling a high volume of structured data across commodity servers ', 'Cassandra handles the huge amount of data with its distributed architecture. Data is placed on different machines with more than one replication factor that provides high availability and no single point of failure. ']\n",
      "['', '']\n",
      "['Data Warehouse is a collection of software tool that help analyze large volumes of disparate data. The goal is to derive profitable insights from the data. This course covers advance topics like Data Marts, Data Lakes, Schemas amongst others.', 'The tutorials are designed for beginners with little or no Data Warehouse Experience. Though basic understanding of Database and  SQL  is a plus. ']\n",
      "[\"DevOps is a culture which promotes collaboration between Development and Operations Team to deploy code to production faster in an automated & repeatable way. The word 'DevOps' is a combination of two words 'development' and 'operations.' \", \"DevOps helps to increases an organization's speed to deliver applications and services. It allows organizations to serve their customers better and compete more strongly in the market. \"]\n",
      "['Tableau is a pioneering data visualization tool. Tableau connects to almost any data source like Datawarehouse, Excel, Database, etc. It provides real-time data insights in a matter of minutes. In this tutorial, you will learn everything about Tableau. ', 'This free Tableau tutorial is designed for beginners. ']\n"
     ]
    },
    {
     "name": "stdout",
     "output_type": "stream",
     "text": [
      "[' Micro Strategy  is an enterprise BI application software. It supports interactive dashboard, highly detailed reports, ad-hoc query, automated report dispute, and Microsoft Office integration. Micro Strategy also supports mobile BI. ', 'You can connect MicroStrategy reporting tool with any data, including big data, flat files, social media data, and so on. It offers an intuitive way to create and modify BI reports and dashboards. ']\n",
      "['ORACLE BUSINESS INTELLIGENCE ENTERPRISE EDITION (OBIEE)  is a BI tool by Oracle Corporation. It gathers, stores, and analyzes data to provide enterprise reports, dashboards, scorecards, ad-hoc analysis. The OLAP provides a rich end-user experience. ', 'Oracle Bl also offers a group of web-based tools for reporting and analyzing data based around dashboards, built around tables, graphs, pivots, etc. It is a Multiple server architecture which allows you to separate data access/presentation elements based on Siebel Analytics technology. ']\n",
      "['Pentaho  is a Business Intelligence tool which provides a wide range of business intelligence solutions to the customers. It is capable of reporting, data analysis, data integration, data mining, etc. Pentaho also offers a comprehensive set of BI features which allows you to improve business performance and efficiency. ', 'In this Pentaho tutorial for beginners, you will learn: ']\n",
      "['Before we understand PowerBI, lets run: ', 'Business intelligence is a technology-driven method which helps you to analyze data and to provide actionable information which helps corporate executives, business managers, and other users to make informed business decisions. ']\n",
      "['Qlikview is a business intelligence tool which is used for converting raw data into knowledge. This software acts like a human brain which works on \"association\" and can go into any direction to search the answers. ', 'QlikView also offers features for ad hoc queries and facilitating quick decision-making based on easily accessible information. ']\n",
      "['Talend is an open source software platform which offers data integration and data management solutions. Talend specializes in the big data integration. The tool provides features like a cloud, big data, enterprise application integration, data quality, and master data management. It also provides a unified repository to store and reuse the Metadata. ', 'It is available in both open source and premium version. It is one of the best tools for cloud computing and big data integration. ']\n",
      "['A distributed application is an application which can run on multiple systems in a network. It runs simultaneously by coordinating themselves to complete a certain task. These tasks may take plenty of hours to complete by any non-distributed application. ', 'Apache Zookeeper is an open source distributed coordination service that helps you manage a large set of hosts. Management and coordination in a distributed environment are tricky. Zookeeper automates this process and allows developers to focus on building software features rather worry about the distributed nature of their application. ']\n",
      "['Apache NiFi is an open source software for automating and managing the flow of data between systems. It is a powerful and reliable system to process and distribute data. It provides a web-based User Interface for creating, monitoring, & controlling data flows. It has a highly configurable and modifiable data flow process that can modify data at runtime. It is easily extensible through the development of custom components. ', 'In this tutorial, you will learn- ']\n",
      "['', '']\n",
      "['']\n",
      "['Natural Language Processing is manipulation or understanding text or speech by any software or machine. An analogy is that humans interact, understand each other views, and respond with the appropriate answer. In NLP, this interaction, understanding, the response is made by a computer instead of a human.', 'NLTK stands for Natural Language Toolkit. This toolkit is one of the most powerful NLP libraries which contains packages to make machines understand human language and reply to it with an appropriate response. Tokenization, Stemming, Lemmatization, Punctuation, Character count, word count are some of these packages which will be discussed in this tutorial. ']\n",
      "['A machine with the ability to perform cognitive functions such as perceiving, learning, reasoning and solve problems are deemed to hold an artificial intelligence. ', 'Artificial intelligence exists when a machine has cognitive ability. The benchmark for AI is the human level concerning reasoning, speech, and vision. ']\n",
      "['Data Science  is the area of study which involves extracting insights from vast amounts of data by the use of various scientific methods, algorithms, and processes. It helps you to discover hidden patterns from the raw data. The term Data Science has emerged because of the evolution of mathematical statistics, data analysis, and  big data . ', 'Data Science is an interdisciplinary field that allows you to extract knowledge from structured or unstructured data. Data science enables you to translate a business problem into a research project and then translate it back into a practical solution. ']\n",
      "['KERAS  is an Open Source Neural Network library written in Python that runs on top of Theano or Tensorflow. It is designed to be modular, fast and easy to use. It was developed by François Chollet, a Google engineer. ', 'Keras doesn\\'t handle low-level computation. Instead, it uses another library to do it, called the \"Backend. So Keras is high-level API wrapper for the low-level API, capable of running on top of TensorFlow, CNTK, or Theano. ']\n",
      "['NumPy is an open source library available in Python that aids in mathematical, scientific, engineering, and data science programming. NumPy is an incredible library to perform mathematical and statistical operations. It works perfectly well for multi-dimensional arrays and matrices multiplication', 'For any scientific project, NumPy is the tool to know. It has been built to work with the N-dimensional array, linear algebra, random number, Fourier transform, etc. It can be integrated to C/C++ and Fortran. ']\n",
      "[\"PyTorch is a Torch based machine learning library for Python. It's similar to numpy but with powerful GPU support. It was developed by Facebook's AI Research Group in 2016. PyTorch offers Dynamic Computational Graph such that you can modify the graph on the go with the help of autograd. Pytorch is also faster in some cases than other frameworks, but you will discuss this later in the other section. \", 'Advantages ']\n",
      "['', 'Here are the reasons why you should learn Java:']\n",
      "['VBScript is a propriety client side scripting language by Microsoft, supported by Internet Explorer. Its is widely used in enterprises. This course will teach you basics of VBScript. ', 'Nothing! This is an absolute beginners guide to VBScript. ']\n",
      "['Python  is an object-oriented programming language created by Guido Rossum in 1989. It is ideally designed for rapid prototyping of complex applications. It has interfaces to many OS system calls and libraries and is extensible to C or C++. Many large companies use the Python programming language include NASA, Google, YouTube, BitTorrent, etc. ', 'Python programming is widely used in Artificial Intelligence, Natural Language Generation, Neural Networks and other advanced fields of Computer Science. Python had deep focus on code readability & this class will teach you python from basics. ']\n",
      "['PERL  is a high-level, general-purpose, interpreted, dynamic programming language. Perl is a term stands for \"Practical Extraction and Reporting Language\" even though there is no acronym for Perl. It was introduced by Larry Wall in 1987. Perl was specially designed for text editing. But now, it is widely used for a variety of purposes including Linux system administration, network programming, web development, etc. ', ' ']\n",
      "['', '']\n",
      "['Nothing! This is an absolute beginners guide to JavaScript.', 'JavaScript Engines are complicated. But it works on some simple basics:']\n",
      "[' Apache is a remarkable piece of application software.\\xa0 It is the most widely used Web Server application in the world with more than 50% share in the commercial web server market. Apache is the most widely used Web Server application in Unix-like operating systems but can be used on almost all platforms such as Windows, OS X, OS/2, etc. The word, Apache, has been taken from the name of the Native American tribe ‘ Apache’ , famous for its skills in warfare and strategy making. ', ' It is a modular, process-based web server application that creates a new thread with each simultaneous connection. It supports a number of features; many of them are compiled as separate modules and extend its core functionality, and can provide everything from server side programming language support to authentication mechanism. Virtual hosting is one such feature that allows a single Apache Web Server to serve a number of different websites. ']\n"
     ]
    },
    {
     "name": "stdout",
     "output_type": "stream",
     "text": [
      "['', '\\xa0']\n",
      "['This tutorial is designed for beginners and knowledge of  JavaScript  would be an additional help.', '']\n",
      "['The modern web application has really come a long way over the years with the introduction of many popular frameworks such as bootstrap, Angular JS, etc. All of these frameworks are based on the popular  JavaScript  framework. ', 'But when it came to developing server-based applications, there was a kind of void, and this is where Node.js came into the picture. ']\n",
      "['Java Server Pages (JSP) is a technology which is used to develop web pages by inserting  Java  code into the HTML pages by making special JSP tags. The JSP tags which allow java code to be included into it are <% ----java code----%>.', 'It can consist of either HTML or XML (combination of both is also possible) with JSP actions and commands.']\n",
      "['Web service is a standardized medium to propagate communication between the client and server applications on the World Wide Web.', 'Web services provide a common platform that allows multiple applications built on various programming languages to have the ability to communicate with each other']\n",
      "['']\n",
      "['', '']\n",
      "['Android is a mobile operating system developed by Google, based on a modified version of the Linux kernel and other open source software and designed primarily for touchscreen mobile devices such as smartphones and tablets. In addition, Google has further developed Android TV for televisions, Android Auto for cars, and Wear OS for wrist watches, each with a specialized user interface. ', 'Must Know!']\n",
      "['C++  is a general-purpose object-oriented programming language. It was created by Bjarne Stroustrup at Bell Labs circa 1980. C++ is very similar to C (invented by Dennis Ritchie in the early 1970s). C++ is so much compatible with C that it will probably compile over 99% of C programs without changing a line of source code. Though, C++ is a lot well-structured and safer language than C as it OOPs based. ', 'Some computer languages are written for a specific purpose. Like, Java was initially devised to control toasters and some other electronics. C was developed for programming OS. Pascal was conceptualized to teach proper programming techniques. But C++ is a general-purpose language. It well deserves the widely acknowledged nickname \"Swiss Pocket Knife of Languages.\" ']\n",
      "['CodeIgniter is an open-source software rapid development web framework, for use in building dynamic web sites with PHP. This course teaches you basic to advance level concept of Codeigniter to make you a CodeIgniter Pro! ', ' The online guide is designed for beginners with little or no Codeigniter experience. But before you begin, first take the  PHP  course. ']\n",
      "['Kotlin  is an open-source programming language that can run on Java Virtual Machine (JVM). It is a language that combines Object Oriented Programming (OOPs) and functional programming in an unrestricted, self - sufficient and distinctive platform. ', 'Kotlin is a programming language that was proposed by JetBrains. It can run on numerous platforms. You can apply the twinning of functionalities by miniature codes in Kotlin. ']\n",
      "['ReactJS  is an open-source front-end JavaScript library for building user interfaces.  ReactJS  is maintained by Facebook and a community of individual developers and companies. It is widely used as a base in building single-page websites and mobile applications. It is very easy to use, and it allows users to create reusable UI components. ', 'In this ReactJS Tutorial for beginners, you will learn ReactJS step by step: ']\n",
      "['Ruby is a pure object-oriented programming language. It was created by Yukihiro Matsumoto in Japan in 1995. It is a dynamic open-source language that has a great community behind it. It was designed for simplicity and productivity. Ruby encourages writing software code for humans first and computers second. ', 'Rails is a development framework, written in Ruby, for building web applications. It was created as the foundation of the Basecamp application and then released as open-source software in 2004 for everyone to use. ']\n",
      "['SCALA  is a statically typed programming language that incorporates both functional and object-oriented programming. It primarily runs on the JVM platform, but it can also be used to write software for multiple platforms, including native platforms using Scala-Native and JavaScript runtimes through  ScalaJs . ', 'Scala is a programming language written for increasing the scalability of the application. It is a Scalable Language. Hence, it got the name \"Scala\". This language is intended to solve the problems of Java while simultaneously being more concise. Initially designed by Martin Odersky, it was released in 2003. ']\n",
      "['', '']\n",
      "['WPF is a short abbreviation of Windows Presentation Foundation. It is an ideal framework for building Windows applications. The idea behind the introduction of WPF framework was that user could develop a rich user interface comprising of 3D, animation, rich color with minimum code complexity. ', 'WPF can be considered as an evolution over WinForms. It produces easy to operate graphical display system for windows. It offers easy separation between UI and the business logic. ']\n",
      "['Check our  Live HP ALM Project  ', '\\xa0']\n",
      "['', '\\xa0']\n",
      "['Test-link is most widely used web based open source test management tool. It synchronizes both requirements specification and test specification together. User can create test project and document test cases using this tool. With Test-Link you can create an account for multiple users and assign different user roles. Admin user can manage test cases assignment task. ', 'It supports both automated and manual execution of Test cases. The testers can generate  Test Plan  and Test Report in a fraction of the time with this tool. It supports test reports in various formats like Excel, MS word, and HTML formats. Apart from these, it also supports integration with many popular  Defect  tracking system like JIRA, MANTIS, BUGZILLA, TRAC, etc. Since it is a web based tool, multiple users can access its functionality at the same time with their credentials and assigned roles. ']\n",
      "['Today, there are many web site builders available, which helps you to create simple to the advanced level website for your business. They help you create a website without knowing to code or hire a developer.', 'Here, are curated a list of Top Website builder tools. The list has free as well as paid tools.']\n",
      "['Free online certifications not only expand your skill and knowledge but also makes your resume more attractive to recruiters for private or government jobs. Free online courses give you a chance to learn from industry experts without spending a dime. The major MOOCs (Massive Open Online Courses) platform ( Udemy ,  Udacity ,  Coursera , and  edX ) have changed their model where the course is free, but printable certification is chargeable. Though there still are tons of free courses online with certificates from reputed providers. But not all courses cover the course content in-depth or have industry-ready course content. ', 'Following is a curated list of 60 best free online courses with certificates that will drastically improve your educational and career prospects.']\n",
      "['When people talk about the essentials for the perfect gaming experience, many of them forget to mention one important piece. The hard drive. You might have the best gaming monitor, a special mouse, and keyboard, a gaming pad maybe or even a gaming chair but these will mean nothing when you have no space to install your games.', 'Which is why you need a dedicated gaming hardware. Not only does it allow you enough space for storing your favorite games but are also optimized to reduce the load time and minimize game lagging. Moreover, with over 100 different types of best gaming hard drives available, you will find our list of the top 7 best gaming hard disks pretty useful.']\n",
      "['Nothing! This course assumes you are a beginner to Excel.', '']\n",
      "['', '\\xa0']\n",
      "['Check our  Live Penetration Testing Project  ', '']\n",
      "[\"Cloud Computing  is defined as storing and accessing of data and computing services over the internet. It doesn't store any data on your personal computer. It is the on-demand availability of computer services like servers, data storage, networking, databases, etc. The main purpose of cloud computing is to give access to data centers to many users. Users can also access data from a remote server. \", '  Example:   AWS, Azure, Google Cloud ']\n"
     ]
    },
    {
     "name": "stdout",
     "output_type": "stream",
     "text": [
      "['', '\\xa0']\n",
      "['A Business Analyst is the key figure in understanding business requirement and its implementation. This course is designed to help you understand Business Analysis right from Software Engineering Methods & Lifecycles to Requirements Preparation, analysis and presentation. ', 'The course is for beginner’s and you should know nothing ']\n",
      "['', '']\n",
      "['', '\\xa0']\n",
      "[\" VBA stands for Visual Basic for Applications. It is a combination of the Microsoft's event-driven programming language Visual Basic with Microsoft Office Applications such as Microsoft Excel. \", 'VBA enables you to automate various activities in Excel like generating reports, preparing charts & graphs, doing calculations, etc. This automation activity is also often referred as Macro. This way it helps users to save their time spent behind running the repetitive steps.']\n",
      "['CCNA (Cisco Certified Network Associate)  is a popular certification for computer network engineers provided by the company named Cisco Systems. It is valid for all types of engineers including entry-level network engineers, network administrators, network support engineers and network specialists. It helps to become familiar with broad range of networking concepts like OSI models, IP addressing, Network security, etc. ', ' It is estimated that more than 1 million CCNA certificates have been awarded since it was first launched in 1998. CCNA stands for \"Cisco Certified Network Associate\". The CCNA certificate covers a broad range of networking concepts and CCNA basics. It helps candidates to study CCNA fundamentals and prepare for the latest network technologies they are likely to work on. ']\n",
      "['', '']\n",
      "['', '']\n",
      "[\"BLOCKCHAIN  can be defined as a chain of blocks that contains information. The technique is intended to timestamp digital documents so that it's not possible to backdate them or temper them. The purpose of blockchain is to solve the double records problem without the need of a central server. \", 'The blockchain is used for the secure transfer of items like money, property, contracts, etc. without requiring a third-party intermediary like bank or government. Once a data is recorded inside a blockchain, it is very difficult to change it. ']\n",
      "['Go  (also known as Golang) is an open source programming language developed by Google. It is a statically-typed compiled language. Go supports concurrent programming, i.e. it allows running multiple processes simultaneously. This is achieved using channels, goroutines, etc. Go Language has garbage collection which itself does the memory management and allows the deferred execution of functions. ', 'We will learn all the basics of Golang in this Learn Go Language Tutorial. ']\n",
      "['Data Communication and Computer Networking provides the rules and regulations that allow computers with different operating systems, languages, cabling, and locations to share resources and communicate with each other. This online Computer Networking Notes teaches you basics of Data Communication and Computer network including KEY concepts and algorithms.', 'This Computer Network Tutorial is designed for beginners with no prior experience in Computer networking or Data communication. You will learn basic concepts of Networking and Data communication fundamentals.']\n",
      "[\"An  Operating system (OS)  is a software which acts as an interface between the end user and computer hardware. Every computer must have at least one OS to run other programs. An application like Chrome, MS Word, Games, etc needs some environment in which it will run and perform its task. The OS helps you to communicate with the computer without knowing how to speak the computer's language. It is  not  possible for the user to use any computer or mobile device without having an operating system. \", 'In this tutorial, you will learn: ']\n",
      "['A compiler is a computer program which helps you transform source code written in a high-level language into low-level machine language. It translates the code written in one programming language to some other language without changing the meaning of the code. The compiler also makes the end code efficient which is optimized for execution time and memory space. ', 'The compiling process includes basic translation mechanisms and error detection. Compiler process goes through lexical, syntax, and semantic analysis at the front end, and code generation and optimization at a back-end. ']\n",
      "['COBOL is a programming language that is mainly focused on solving a business problem. Full form of COBOL is Common Business-Oriented Language. It is primarily used in company and government business, finance, and administrative systems. This language also used as a solution to many data processing problems. ', 'It is developed by CODASYL (Conference on Data Systems Languages). It is used as a language in the M ainframe System . ']\n",
      "[' Before we learn Embedded System, lets learn: ', 'A system is an arrangement where all its component work according to the specific defined rules. It is a method of organizing, working, or performing one or more tasks according to a fixed plan. ']\n",
      "['', '']\n",
      "['Before we learn Salesforce, lets understand- ', 'Cloud computing is all about using a remote server, to store, manage, and process data, instead of a local server/ personal computer. ']\n",
      "['A Minecraft game hosting service is one type of internet hosting service which allows any individuals or companies to host their Minecraft game on the World Wide Web. ', 'Following is a handpicked list of Top Minecraft hosting servers with their popular features and website links. ']\n",
      "['Business email addresses use the domain name of your company instead of a generic yahoo account or Gmail account, for example,  This email address is being protected from spambots. You need JavaScript enabled to view it. .', 'Most owners, while commencing their business use free email accounts with no custom domain name, which does not look professional. For example:  This email address is being protected from spambots. You need JavaScript enabled to view it.  or  This email address is being protected from spambots. You need JavaScript enabled to view it. . ']\n",
      "['A web host is one type of Internet hosting service that allows individuals or companies to make their website accessible on the worldwide Web. There are many hosting service providers in India, which offers various types of hosting services according to your budget and specifications. ', 'Following is a handpicked list of Top Web Hosting Service provider in India with their popular features and website links.']\n",
      "['A web host is one type of Internet hosting service that allows individuals or companies to make their website accessible worldwide. There are many hosting service providers in Australia, which offers various kinds of hosting services according to your budget and specifications. ', 'Following is a handpicked list of Top Web Hosting Service Providers in Australia with their popular features/pros & cons and website links.']\n",
      "['A web host is one type of internet hosting service that allows individuals or companies to make their website accessible worldwide. There are many hosting service providers in Canada, which offer various kinds of hosting services according to your budget and specifications. ', 'Following is a handpicked list of Top Web Hosting Service Providers in Canada with their popular features/pros & cons and website links.']\n",
      "['Professional email addresses use the domain name of your company instead of a generic yahoo account or Gmail account, for example,  This email address is being protected from spambots. You need JavaScript enabled to view it. . ', 'Most owners, while commencing their business use free email accounts with no custom domain name, which does not look professional. For example:  This email address is being protected from spambots. You need JavaScript enabled to view it.  or  This email address is being protected from spambots. You need JavaScript enabled to view it. . ']\n",
      "['The course is designed for SQL beginners. No prior DB experience is required. ', '']\n",
      "['SQLite  is an open-source, embedded, relational database management system, designed circa 2000. It is a lightweight database, with zero configuration, no requirements of a server or installation. Despite its simplicity, it is laden with popular features of database management systems. ', 'Key Features  ']\n"
     ]
    },
    {
     "name": "stdout",
     "output_type": "stream",
     "text": [
      "[' PostgreSQL is an enterprise-class open source database management system. It supports both SQL for relational and JSON for non-relational queries. This course covers basics to advance topics like creating a database, create a table, drop the database, drop table, select table, insert a record, update record, delete a record, order by, group by, triggers, substring, database keys, etc. ', 'The online guide is designed for beginners with little or no PostgreSQL Experience.']\n",
      "['', '']\n",
      "['Database Management System (DBMS) is a collection of programs which enables its users to access a database, manipulate data and reporting/representation of data. This is a complete Database Management System tutorial for beginners.', 'These online Database Management System notes cover basics to advance topics like DBMS architecture, data model, ER model diagram, relational calculus and algebra, concurrency control, keys, data independence, etc. to easily understand and learn DBMS for beginners. Let us start this DBMS tutorial by understanding,']\n",
      "['MariaDB is a fork of the MySQL database management system. It is created by its original developers. This DBMS tool offers data processing capabilities for both small and enterprise tasks. ', 'MariaDB is an improved version of MySQL. It comes with numerous inbuilt powerful features and many usabilities, security and performance improvements that you cannot find in MySQL. ']\n",
      "['SQL Server is a leading Relational Database Management System by Microsoft. This course teaches you basic to advance level concepts of SQL Server ', ' The online guide is designed for beginners with little or no SQL Server experience. But knowledge of  SQL  is a plus ']\n"
     ]
    }
   ],
   "source": [
    "test_final = topic_lookup.apply(lambda x:[x['title']] + extract_details(scraper_session,x['url']),axis = 1)"
   ]
  },
  {
   "cell_type": "code",
   "execution_count": 30,
   "metadata": {},
   "outputs": [
    {
     "name": "stdout",
     "output_type": "stream",
     "text": [
      "['R Programming', '']\n",
      "['C#', '']\n"
     ]
    }
   ],
   "source": [
    "for i in test_final:\n",
    "    if len(i)!=3:\n",
    "        print(i)"
   ]
  },
  {
   "cell_type": "code",
   "execution_count": 33,
   "metadata": {},
   "outputs": [],
   "source": [
    "final = [i for i in test_final if len(i)==3]"
   ]
  },
  {
   "cell_type": "code",
   "execution_count": 35,
   "metadata": {},
   "outputs": [],
   "source": [
    "subsection_df = pd.DataFrame(final)"
   ]
  },
  {
   "cell_type": "code",
   "execution_count": 41,
   "metadata": {},
   "outputs": [],
   "source": [
    "subsection_df.columns = ['Title','Prerequisites','Learn']"
   ]
  },
  {
   "cell_type": "code",
   "execution_count": 45,
   "metadata": {},
   "outputs": [
    {
     "data": {
      "text/html": [
       "<div>\n",
       "<style scoped>\n",
       "    .dataframe tbody tr th:only-of-type {\n",
       "        vertical-align: middle;\n",
       "    }\n",
       "\n",
       "    .dataframe tbody tr th {\n",
       "        vertical-align: top;\n",
       "    }\n",
       "\n",
       "    .dataframe thead th {\n",
       "        text-align: right;\n",
       "    }\n",
       "</style>\n",
       "<table border=\"1\" class=\"dataframe\">\n",
       "  <thead>\n",
       "    <tr style=\"text-align: right;\">\n",
       "      <th></th>\n",
       "      <th>Title</th>\n",
       "      <th>Prerequisites</th>\n",
       "      <th>Learn</th>\n",
       "    </tr>\n",
       "  </thead>\n",
       "  <tbody>\n",
       "    <tr>\n",
       "      <th>0</th>\n",
       "      <td>Software Testing</td>\n",
       "      <td>In this course, you will learn basic skills a...</td>\n",
       "      <td>This online video tutorial is specially desig...</td>\n",
       "    </tr>\n",
       "    <tr>\n",
       "      <th>1</th>\n",
       "      <td>QTP (Quick Test Professional)</td>\n",
       "      <td>Check!</td>\n",
       "      <td></td>\n",
       "    </tr>\n",
       "    <tr>\n",
       "      <th>2</th>\n",
       "      <td>Selenium</td>\n",
       "      <td>This free tutorial is designed for beginners ...</td>\n",
       "      <td>Want Selenium Lessons in your Inbox?  Join our...</td>\n",
       "    </tr>\n",
       "    <tr>\n",
       "      <th>3</th>\n",
       "      <td>Mobile App Testing</td>\n",
       "      <td>Check our  Live Mobile Testing Project</td>\n",
       "      <td></td>\n",
       "    </tr>\n",
       "    <tr>\n",
       "      <th>4</th>\n",
       "      <td>Cucumber Testing</td>\n",
       "      <td></td>\n",
       "      <td></td>\n",
       "    </tr>\n",
       "    <tr>\n",
       "      <th>...</th>\n",
       "      <td>...</td>\n",
       "      <td>...</td>\n",
       "      <td>...</td>\n",
       "    </tr>\n",
       "    <tr>\n",
       "      <th>132</th>\n",
       "      <td>PostgreSQL</td>\n",
       "      <td>PostgreSQL is an enterprise-class open source...</td>\n",
       "      <td>The online guide is designed for beginners wit...</td>\n",
       "    </tr>\n",
       "    <tr>\n",
       "      <th>133</th>\n",
       "      <td>PL/SQL</td>\n",
       "      <td></td>\n",
       "      <td></td>\n",
       "    </tr>\n",
       "    <tr>\n",
       "      <th>134</th>\n",
       "      <td></td>\n",
       "      <td>Database Management System (DBMS) is a collect...</td>\n",
       "      <td>These online Database Management System notes ...</td>\n",
       "    </tr>\n",
       "    <tr>\n",
       "      <th>135</th>\n",
       "      <td>MariaDB</td>\n",
       "      <td>MariaDB is a fork of the MySQL database manage...</td>\n",
       "      <td>MariaDB is an improved version of MySQL. It co...</td>\n",
       "    </tr>\n",
       "    <tr>\n",
       "      <th>136</th>\n",
       "      <td>SQL Server</td>\n",
       "      <td>SQL Server is a leading Relational Database Ma...</td>\n",
       "      <td>The online guide is designed for beginners wi...</td>\n",
       "    </tr>\n",
       "  </tbody>\n",
       "</table>\n",
       "<p>137 rows × 3 columns</p>\n",
       "</div>"
      ],
      "text/plain": [
       "                             Title  \\\n",
       "0                 Software Testing   \n",
       "1    QTP (Quick Test Professional)   \n",
       "2                         Selenium   \n",
       "3               Mobile App Testing   \n",
       "4                 Cucumber Testing   \n",
       "..                             ...   \n",
       "132                     PostgreSQL   \n",
       "133                         PL/SQL   \n",
       "134                                  \n",
       "135                        MariaDB   \n",
       "136                     SQL Server   \n",
       "\n",
       "                                         Prerequisites  \\\n",
       "0     In this course, you will learn basic skills a...   \n",
       "1                                               Check!   \n",
       "2     This free tutorial is designed for beginners ...   \n",
       "3               Check our  Live Mobile Testing Project   \n",
       "4                                                        \n",
       "..                                                 ...   \n",
       "132   PostgreSQL is an enterprise-class open source...   \n",
       "133                                                      \n",
       "134  Database Management System (DBMS) is a collect...   \n",
       "135  MariaDB is a fork of the MySQL database manage...   \n",
       "136  SQL Server is a leading Relational Database Ma...   \n",
       "\n",
       "                                                 Learn  \n",
       "0     This online video tutorial is specially desig...  \n",
       "1                                                       \n",
       "2    Want Selenium Lessons in your Inbox?  Join our...  \n",
       "3                                                       \n",
       "4                                                       \n",
       "..                                                 ...  \n",
       "132  The online guide is designed for beginners wit...  \n",
       "133                                                     \n",
       "134  These online Database Management System notes ...  \n",
       "135  MariaDB is an improved version of MySQL. It co...  \n",
       "136   The online guide is designed for beginners wi...  \n",
       "\n",
       "[137 rows x 3 columns]"
      ]
     },
     "execution_count": 45,
     "metadata": {},
     "output_type": "execute_result"
    }
   ],
   "source": [
    "subsection_df"
   ]
  },
  {
   "cell_type": "code",
   "execution_count": 44,
   "metadata": {},
   "outputs": [
    {
     "data": {
      "text/html": [
       "<div>\n",
       "<style scoped>\n",
       "    .dataframe tbody tr th:only-of-type {\n",
       "        vertical-align: middle;\n",
       "    }\n",
       "\n",
       "    .dataframe tbody tr th {\n",
       "        vertical-align: top;\n",
       "    }\n",
       "\n",
       "    .dataframe thead th {\n",
       "        text-align: right;\n",
       "    }\n",
       "</style>\n",
       "<table border=\"1\" class=\"dataframe\">\n",
       "  <thead>\n",
       "    <tr style=\"text-align: right;\">\n",
       "      <th></th>\n",
       "      <th>title</th>\n",
       "      <th>url</th>\n",
       "      <th>tag_tetx</th>\n",
       "    </tr>\n",
       "  </thead>\n",
       "  <tbody>\n",
       "    <tr>\n",
       "      <th>0</th>\n",
       "      <td>Software Testing</td>\n",
       "      <td>https://www.guru99.com/software-testing.html</td>\n",
       "      <td>Software Testing</td>\n",
       "    </tr>\n",
       "    <tr>\n",
       "      <th>1</th>\n",
       "      <td>QTP (Quick Test Professional)</td>\n",
       "      <td>https://www.guru99.com/quick-test-professional...</td>\n",
       "      <td>QTP (Quick Test Professional)</td>\n",
       "    </tr>\n",
       "    <tr>\n",
       "      <th>2</th>\n",
       "      <td>Selenium</td>\n",
       "      <td>https://www.guru99.com/selenium-tutorial.html</td>\n",
       "      <td>Selenium</td>\n",
       "    </tr>\n",
       "    <tr>\n",
       "      <th>3</th>\n",
       "      <td>Mobile App Testing</td>\n",
       "      <td>https://www.guru99.com/mobile-testing.html</td>\n",
       "      <td>Mobile App Testing</td>\n",
       "    </tr>\n",
       "    <tr>\n",
       "      <th>4</th>\n",
       "      <td>Cucumber Testing</td>\n",
       "      <td>https://www.guru99.com/cucumber-tutorials.html</td>\n",
       "      <td>Cucumber Testing</td>\n",
       "    </tr>\n",
       "    <tr>\n",
       "      <th>...</th>\n",
       "      <td>...</td>\n",
       "      <td>...</td>\n",
       "      <td>...</td>\n",
       "    </tr>\n",
       "    <tr>\n",
       "      <th>134</th>\n",
       "      <td>PostgreSQL</td>\n",
       "      <td>https://www.guru99.com/postgresql-tutorial.html</td>\n",
       "      <td>PostgreSQL</td>\n",
       "    </tr>\n",
       "    <tr>\n",
       "      <th>135</th>\n",
       "      <td>PL/SQL</td>\n",
       "      <td>https://www.guru99.com/pl-sql-tutorials.html</td>\n",
       "      <td>PL/SQL</td>\n",
       "    </tr>\n",
       "    <tr>\n",
       "      <th>136</th>\n",
       "      <td></td>\n",
       "      <td>https://www.guru99.com/dbms-tutorial.html</td>\n",
       "      <td>DBMS</td>\n",
       "    </tr>\n",
       "    <tr>\n",
       "      <th>137</th>\n",
       "      <td>MariaDB</td>\n",
       "      <td>https://www.guru99.com/mariadb-tutorial-instal...</td>\n",
       "      <td>MariaDB</td>\n",
       "    </tr>\n",
       "    <tr>\n",
       "      <th>138</th>\n",
       "      <td>SQL Server</td>\n",
       "      <td>https://www.guru99.com/ms-sql-server-tutorial....</td>\n",
       "      <td>SQL Server</td>\n",
       "    </tr>\n",
       "  </tbody>\n",
       "</table>\n",
       "<p>139 rows × 3 columns</p>\n",
       "</div>"
      ],
      "text/plain": [
       "                             title  \\\n",
       "0                 Software Testing   \n",
       "1    QTP (Quick Test Professional)   \n",
       "2                         Selenium   \n",
       "3               Mobile App Testing   \n",
       "4                 Cucumber Testing   \n",
       "..                             ...   \n",
       "134                     PostgreSQL   \n",
       "135                         PL/SQL   \n",
       "136                                  \n",
       "137                        MariaDB   \n",
       "138                     SQL Server   \n",
       "\n",
       "                                                   url  \\\n",
       "0         https://www.guru99.com/software-testing.html   \n",
       "1    https://www.guru99.com/quick-test-professional...   \n",
       "2        https://www.guru99.com/selenium-tutorial.html   \n",
       "3           https://www.guru99.com/mobile-testing.html   \n",
       "4       https://www.guru99.com/cucumber-tutorials.html   \n",
       "..                                                 ...   \n",
       "134    https://www.guru99.com/postgresql-tutorial.html   \n",
       "135       https://www.guru99.com/pl-sql-tutorials.html   \n",
       "136          https://www.guru99.com/dbms-tutorial.html   \n",
       "137  https://www.guru99.com/mariadb-tutorial-instal...   \n",
       "138  https://www.guru99.com/ms-sql-server-tutorial....   \n",
       "\n",
       "                          tag_tetx  \n",
       "0                 Software Testing  \n",
       "1    QTP (Quick Test Professional)  \n",
       "2                         Selenium  \n",
       "3               Mobile App Testing  \n",
       "4                 Cucumber Testing  \n",
       "..                             ...  \n",
       "134                     PostgreSQL  \n",
       "135                         PL/SQL  \n",
       "136                           DBMS  \n",
       "137                        MariaDB  \n",
       "138                     SQL Server  \n",
       "\n",
       "[139 rows x 3 columns]"
      ]
     },
     "execution_count": 44,
     "metadata": {},
     "output_type": "execute_result"
    }
   ],
   "source": [
    "topic_lookup"
   ]
  },
  {
   "cell_type": "code",
   "execution_count": null,
   "metadata": {},
   "outputs": [],
   "source": []
  }
 ],
 "metadata": {
  "kernelspec": {
   "display_name": "Python 3.8.3 64-bit ('anaconda3': virtualenv)",
   "language": "python",
   "name": "python38364bitanaconda3virtualenv2df7d7cda7064c55a802e819f68fc93f"
  },
  "language_info": {
   "codemirror_mode": {
    "name": "ipython",
    "version": 3
   },
   "file_extension": ".py",
   "mimetype": "text/x-python",
   "name": "python",
   "nbconvert_exporter": "python",
   "pygments_lexer": "ipython3",
   "version": "3.8.3"
  }
 },
 "nbformat": 4,
 "nbformat_minor": 4
}
